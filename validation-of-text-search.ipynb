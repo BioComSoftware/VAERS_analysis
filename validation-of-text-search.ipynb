{
 "cells": [
  {
   "cell_type": "code",
   "execution_count": 1,
   "metadata": {},
   "outputs": [],
   "source": [
    "from IPython.display import display\n",
    "from matplotlib.ticker import StrMethodFormatter\n",
    "from matplotlib.ticker import FormatStrFormatter\n",
    "\n",
    "import pandas as pd\n",
    "import numpy as np\n",
    "import matplotlib.pyplot as plt\n",
    "import re\n",
    "import spacy\n",
    "\n",
    "pd.options.display.max_columns = None\n",
    "pd.options.display.max_rows = None\n",
    "pd.set_option('display.max_colwidth', None)\n",
    "\n",
    "%matplotlib inline\n"
   ]
  },
  {
   "cell_type": "code",
   "execution_count": 2,
   "metadata": {
    "scrolled": false
   },
   "outputs": [
    {
     "name": "stderr",
     "output_type": "stream",
     "text": [
      "[nltk_data] Downloading package punkt to /home/mikes/nltk_data...\n",
      "[nltk_data]   Package punkt is already up-to-date!\n",
      "[nltk_data] Downloading package averaged_perceptron_tagger to\n",
      "[nltk_data]     /home/mikes/nltk_data...\n",
      "[nltk_data]   Package averaged_perceptron_tagger is already up-to-\n",
      "[nltk_data]       date!\n",
      "[nltk_data] Downloading package wordnet to /home/mikes/nltk_data...\n",
      "[nltk_data]   Package wordnet is already up-to-date!\n",
      "[nltk_data] Downloading package stopwords to /home/mikes/nltk_data...\n",
      "[nltk_data]   Package stopwords is already up-to-date!\n"
     ]
    }
   ],
   "source": [
    "#for text pre-processing\n",
    "import re, string\n",
    "import nltk\n",
    "from nltk.tokenize import word_tokenize\n",
    "from nltk.corpus import stopwords\n",
    "from nltk.tokenize import word_tokenize\n",
    "from nltk.stem import SnowballStemmer\n",
    "from nltk.corpus import wordnet\n",
    "from nltk.stem import WordNetLemmatizer\n",
    "nltk.download('punkt')\n",
    "nltk.download('averaged_perceptron_tagger')\n",
    "nltk.download('wordnet')\n",
    "nltk.download('stopwords')\n",
    "#for model-building\n",
    "from sklearn.model_selection import train_test_split\n",
    "from sklearn.linear_model import LogisticRegression\n",
    "from sklearn.naive_bayes import MultinomialNB\n",
    "from sklearn.metrics import classification_report, f1_score, accuracy_score, confusion_matrix\n",
    "from sklearn.metrics import roc_curve, auc, roc_auc_score\n",
    "# bag of words\n",
    "from sklearn.feature_extraction.text import TfidfVectorizer\n",
    "from sklearn.feature_extraction.text import CountVectorizer\n",
    "#for word embedding\n",
    "import gensim\n",
    "from gensim.models import Word2Vec\n",
    "\n",
    "wl = WordNetLemmatizer()\n",
    "snow = SnowballStemmer('english')\n"
   ]
  },
  {
   "cell_type": "code",
   "execution_count": 3,
   "metadata": {},
   "outputs": [],
   "source": [
    "vd = pd.read_csv(\"/home/mikes/Windows/Documents/tmp/VAERS data deaths only Edited for NLP for HAD COVID.csv\", \n",
    "                         delimiter = \",\", \n",
    "                         encoding = \"ISO-8859-1\")"
   ]
  },
  {
   "cell_type": "code",
   "execution_count": 4,
   "metadata": {},
   "outputs": [
    {
     "data": {
      "text/plain": [
       "Index(['VAERS_ID', 'RECVDATE', 'STATE', 'AGE_YRS', 'CAGE_YR', 'CAGE_MO', 'SEX',\n",
       "       'RPT_DATE', 'SYMPTOM_TEXT', 'SYMPTOM_TEXT_TARGET', 'DIED', 'DATEDIED',\n",
       "       'L_THREAT', 'ER_VISIT', 'HOSPITAL', 'HOSPDAYS', 'X_STAY', 'DISABLE',\n",
       "       'RECOVD', 'VAX_DATE', 'ONSET_DATE', 'NUMDAYS', 'LAB_DATA',\n",
       "       'LAB_DATA_TARGET', 'V_ADMINBY', 'V_FUNDBY', 'OTHER_MEDS',\n",
       "       'OTHER_MEDS_TARGET', 'CUR_ILL', 'CUR_ILL_TARGET', 'HISTORY',\n",
       "       'PRIOR_VAX', 'SPLTTYPE', 'FORM_VERS', 'TODAYS_DATE', 'BIRTH_DEFECT',\n",
       "       'OFC_VISIT', 'ER_ED_VISIT', 'ALLERGIES'],\n",
       "      dtype='object')"
      ]
     },
     "execution_count": 4,
     "metadata": {},
     "output_type": "execute_result"
    }
   ],
   "source": [
    "vd. columns"
   ]
  },
  {
   "cell_type": "code",
   "execution_count": 5,
   "metadata": {},
   "outputs": [
    {
     "data": {
      "text/plain": [
       "(202, 3)"
      ]
     },
     "execution_count": 5,
     "metadata": {},
     "output_type": "execute_result"
    }
   ],
   "source": [
    "df_train = vd.loc[vd['SYMPTOM_TEXT_TARGET'].notnull(), ['VAERS_ID','SYMPTOM_TEXT', 'SYMPTOM_TEXT_TARGET' ]]\n",
    "df_train.shape"
   ]
  },
  {
   "cell_type": "code",
   "execution_count": 6,
   "metadata": {},
   "outputs": [
    {
     "data": {
      "text/plain": [
       "(4982, 3)"
      ]
     },
     "execution_count": 6,
     "metadata": {},
     "output_type": "execute_result"
    }
   ],
   "source": [
    "df_test = vd.loc[vd['SYMPTOM_TEXT_TARGET'].isnull(), ['VAERS_ID','SYMPTOM_TEXT', 'SYMPTOM_TEXT_TARGET' ]]\n",
    "df_test.shape"
   ]
  },
  {
   "cell_type": "code",
   "execution_count": 7,
   "metadata": {},
   "outputs": [
    {
     "name": "stdout",
     "output_type": "stream",
     "text": [
      "(5184, 39)\n",
      "5184\n"
     ]
    }
   ],
   "source": [
    "# No lost rows. All data accounted for\n",
    "print(vd.shape)\n",
    "print(df_train.shape[0] + df_test.shape[0])\n"
   ]
  },
  {
   "cell_type": "code",
   "execution_count": 8,
   "metadata": {},
   "outputs": [
    {
     "data": {
      "text/plain": [
       "VAERS_ID               0\n",
       "SYMPTOM_TEXT           0\n",
       "SYMPTOM_TEXT_TARGET    0\n",
       "dtype: int64"
      ]
     },
     "execution_count": 8,
     "metadata": {},
     "output_type": "execute_result"
    }
   ],
   "source": [
    "df_train.isna().sum()"
   ]
  },
  {
   "cell_type": "code",
   "execution_count": 9,
   "metadata": {},
   "outputs": [
    {
     "data": {
      "text/plain": [
       "VAERS_ID                  0\n",
       "SYMPTOM_TEXT              1\n",
       "SYMPTOM_TEXT_TARGET    4982\n",
       "dtype: int64"
      ]
     },
     "execution_count": 9,
     "metadata": {},
     "output_type": "execute_result"
    }
   ],
   "source": [
    "df_test.isna().sum()"
   ]
  },
  {
   "cell_type": "code",
   "execution_count": 10,
   "metadata": {},
   "outputs": [
    {
     "name": "stdout",
     "output_type": "stream",
     "text": [
      "100.20792079207921\n",
      "104.03960396039604\n"
     ]
    }
   ],
   "source": [
    "# WORD-COUNT (No apparent significance)\n",
    "df_train['word_count'] = df_train['SYMPTOM_TEXT'].apply(lambda x: len(str(x).split()))\n",
    "print(df_train[df_train['SYMPTOM_TEXT_TARGET']==1]['word_count'].mean()) #Has covid\n",
    "print(df_train[df_train['SYMPTOM_TEXT_TARGET']==0]['word_count'].mean()) #Does not have covid"
   ]
  },
  {
   "cell_type": "code",
   "execution_count": 11,
   "metadata": {},
   "outputs": [
    {
     "data": {
      "image/png": "[encoded data removed]",
      "text/plain": [
       "<Figure size 720x288 with 2 Axes>"
      ]
     },
     "metadata": {
      "needs_background": "light"
     },
     "output_type": "display_data"
    }
   ],
   "source": [
    "fig,(ax1,ax2)=plt.subplots(1,2,figsize=(10,4))\n",
    "train_words=df_train[df_train['SYMPTOM_TEXT_TARGET']==1]['word_count']\n",
    "ax1.hist(train_words,color='red')\n",
    "ax1.set_title('Has covid')\n",
    "train_words=df_train[df_train['SYMPTOM_TEXT_TARGET']==0]['word_count']\n",
    "ax2.hist(train_words,color='green')\n",
    "ax2.set_title('Does not have covid')\n",
    "fig.suptitle('Words per tweet')\n",
    "plt.show()"
   ]
  },
  {
   "cell_type": "code",
   "execution_count": 12,
   "metadata": {},
   "outputs": [],
   "source": [
    "#convert to lowercase and remove punctuations and characters and then strip\n",
    "def preprocess(text):\n",
    "    text = text.lower() #lowercase text\n",
    "    text=text.strip()  #get rid of leading/trailing whitespace \n",
    "    text=re.compile('<.*?>').sub('', text) #Remove HTML tags/markups\n",
    "    text = re.compile('[%s]' % re.escape(string.punctuation)).sub(' ', text)  #Replace punctuation with space. Careful since punctuation can sometime be useful\n",
    "    text = re.sub('\\s+', ' ', text)  #Remove extra space and tabs\n",
    "    text = re.sub(r'\\[[0-9]*\\]',' ',text) #[0-9] matches any digit (0 to 10000...)\n",
    "    text=re.sub(r'[^\\w\\s]', '', str(text).lower().strip())\n",
    "    text = re.sub(r'\\d',' ',text) #matches any digit from 0 to 100000..., \\D matches non-digits\n",
    "    text = re.sub(r'\\s+',' ',text) #\\s matches any whitespace, \\s+ matches multiple whitespace, \\S matches non-whitespace \n",
    "    \n",
    "    return text\n",
    "\n",
    " \n"
   ]
  },
  {
   "cell_type": "code",
   "execution_count": 13,
   "metadata": {},
   "outputs": [],
   "source": [
    "#1. STOPWORD REMOVAL\n",
    "def stopword(string):\n",
    "    a= [i for i in string.split() if i not in stopwords.words('english')]\n",
    "    return ' '.join(a)\n",
    "\n",
    "#2. STEMMING \n",
    "# Initialize the stemmer\n",
    "snow = SnowballStemmer('english')\n",
    "def stemming(string):\n",
    "    a=[snow.stem(i) for i in word_tokenize(string) ]\n",
    "    return \" \".join(a)\n",
    "\n",
    "#3. LEMMATIZATION\n",
    "# Initialize the lemmatizer\n",
    "wl = WordNetLemmatizer()\n",
    " \n",
    "# This is a helper function to map NTLK position tags\n",
    "# Full list is available here: https://www.ling.upenn.edu/courses/Fall_2003/ling001/penn_treebank_pos.html\n",
    "def get_wordnet_pos(tag):\n",
    "    if tag.startswith('J'):\n",
    "        return wordnet.ADJ\n",
    "    elif tag.startswith('V'):\n",
    "        return wordnet.VERB\n",
    "    elif tag.startswith('N'):\n",
    "        return wordnet.NOUN\n",
    "    elif tag.startswith('R'):\n",
    "        return wordnet.ADV\n",
    "    else:\n",
    "        return wordnet.NOUN\n",
    "\n",
    "# Tokenize the sentence\n",
    "def lemmatizer(string):\n",
    "    word_pos_tags = nltk.pos_tag(word_tokenize(string)) # Get position tags\n",
    "    a=[wl.lemmatize(tag[0], get_wordnet_pos(tag[1])) for idx, tag in enumerate(word_pos_tags)] # Map the position tag and lemmatize the word/token\n",
    "    return \" \".join(a)\n",
    "\n",
    "def finalpreprocess(string):\n",
    "    string = str(string)\n",
    "    return lemmatizer(stopword(preprocess(string)))\n",
    "#    return lemmatizer(preprocess(string))"
   ]
  },
  {
   "cell_type": "code",
   "execution_count": 14,
   "metadata": {},
   "outputs": [],
   "source": [
    "if \"apple\" in stopwords.words('english'): print(1)"
   ]
  },
  {
   "cell_type": "code",
   "execution_count": 15,
   "metadata": {
    "scrolled": true
   },
   "outputs": [
    {
     "data": {
      "text/html": [
       "<div>\n",
       "<style scoped>\n",
       "    .dataframe tbody tr th:only-of-type {\n",
       "        vertical-align: middle;\n",
       "    }\n",
       "\n",
       "    .dataframe tbody tr th {\n",
       "        vertical-align: top;\n",
       "    }\n",
       "\n",
       "    .dataframe thead th {\n",
       "        text-align: right;\n",
       "    }\n",
       "</style>\n",
       "<table border=\"1\" class=\"dataframe\">\n",
       "  <thead>\n",
       "    <tr style=\"text-align: right;\">\n",
       "      <th></th>\n",
       "      <th>VAERS_ID</th>\n",
       "      <th>SYMPTOM_TEXT</th>\n",
       "      <th>SYMPTOM_TEXT_TARGET</th>\n",
       "      <th>word_count</th>\n",
       "      <th>clean_text</th>\n",
       "    </tr>\n",
       "  </thead>\n",
       "  <tbody>\n",
       "    <tr>\n",
       "      <th>0</th>\n",
       "      <td>916803</td>\n",
       "      <td>respitory colase</td>\n",
       "      <td>0.0</td>\n",
       "      <td>2</td>\n",
       "      <td>respitory colase</td>\n",
       "    </tr>\n",
       "    <tr>\n",
       "      <th>1</th>\n",
       "      <td>917117</td>\n",
       "      <td>After vaccination, patient tested positive for COVID-19.  Patient was very ill and had numerous chronic health issues prior to vaccination.  Facility had a number of patients who had already tested positive for COVID-19.  Vaccination continued in an effort to prevent this patient from contracting the virus or to mitigate his risk.  This was unsuccessful and patient died.</td>\n",
       "      <td>1.0</td>\n",
       "      <td>57</td>\n",
       "      <td>vaccination patient test positive covid patient ill numerous chronic health issue prior vaccination facility number patient already test positive covid vaccination continue effort prevent patient contract virus mitigate risk unsuccessful patient die</td>\n",
       "    </tr>\n",
       "    <tr>\n",
       "      <th>2</th>\n",
       "      <td>917790</td>\n",
       "      <td>At the time of vaccination, there was an outbreak of residents who had already tested positive for COVID 19 at the nursing home where patient was a resident.  About a week later, patient tested positive for COVID 19.  She had a number of chronic, underlying health conditions.  The vaccine did not have enough time to prevent COVID 19.  There is no evidence that the vaccination caused patient's death.  It simply didn't have time to save her life.</td>\n",
       "      <td>1.0</td>\n",
       "      <td>77</td>\n",
       "      <td>time vaccination outbreak resident already test positive covid nursing home patient resident week later patient test positive covid number chronic underlying health condition vaccine enough time prevent covid evidence vaccination cause patient death simply time save life</td>\n",
       "    </tr>\n",
       "    <tr>\n",
       "      <th>3</th>\n",
       "      <td>917793</td>\n",
       "      <td>Prior to the administration of the COVID 19 vaccine, the nursing home had an outbreak of COVID-19.  Patient was vaccinated and about a week later she tested positive for COVID-19.  She had underlying thyroid and diabetes disease.  She died as a result of COVID-19 and her underlying health conditions and not as a result of the vaccine.</td>\n",
       "      <td>1.0</td>\n",
       "      <td>57</td>\n",
       "      <td>prior administration covid vaccine nursing home outbreak covid patient vaccinate week later test positive covid underlie thyroid diabetes disease die result covid underlie health condition result vaccine</td>\n",
       "    </tr>\n",
       "    <tr>\n",
       "      <th>5</th>\n",
       "      <td>918388</td>\n",
       "      <td>Resident found unresponsive without pulse, respirations at 04:30 CPR performed, expired at 04:52 by Rescue</td>\n",
       "      <td>0.0</td>\n",
       "      <td>15</td>\n",
       "      <td>resident find unresponsive without pulse respiration cpr perform expire rescue</td>\n",
       "    </tr>\n",
       "  </tbody>\n",
       "</table>\n",
       "</div>"
      ],
      "text/plain": [
       "   VAERS_ID  \\\n",
       "0    916803   \n",
       "1    917117   \n",
       "2    917790   \n",
       "3    917793   \n",
       "5    918388   \n",
       "\n",
       "                                                                                                                                                                                                                                                                                                                                                                                                                                                       SYMPTOM_TEXT  \\\n",
       "0                                                                                                                                                                                                                                                                                                                                                                                                                                                  respitory colase   \n",
       "1                                                                             After vaccination, patient tested positive for COVID-19.  Patient was very ill and had numerous chronic health issues prior to vaccination.  Facility had a number of patients who had already tested positive for COVID-19.  Vaccination continued in an effort to prevent this patient from contracting the virus or to mitigate his risk.  This was unsuccessful and patient died.   \n",
       "2  At the time of vaccination, there was an outbreak of residents who had already tested positive for COVID 19 at the nursing home where patient was a resident.  About a week later, patient tested positive for COVID 19.  She had a number of chronic, underlying health conditions.  The vaccine did not have enough time to prevent COVID 19.  There is no evidence that the vaccination caused patient's death.  It simply didn't have time to save her life.   \n",
       "3                                                                                                                  Prior to the administration of the COVID 19 vaccine, the nursing home had an outbreak of COVID-19.  Patient was vaccinated and about a week later she tested positive for COVID-19.  She had underlying thyroid and diabetes disease.  She died as a result of COVID-19 and her underlying health conditions and not as a result of the vaccine.   \n",
       "5                                                                                                                                                                                                                                                                                                                                                        Resident found unresponsive without pulse, respirations at 04:30 CPR performed, expired at 04:52 by Rescue   \n",
       "\n",
       "   SYMPTOM_TEXT_TARGET  word_count  \\\n",
       "0                  0.0           2   \n",
       "1                  1.0          57   \n",
       "2                  1.0          77   \n",
       "3                  1.0          57   \n",
       "5                  0.0          15   \n",
       "\n",
       "                                                                                                                                                                                                                                                                        clean_text  \n",
       "0                                                                                                                                                                                                                                                                 respitory colase  \n",
       "1                        vaccination patient test positive covid patient ill numerous chronic health issue prior vaccination facility number patient already test positive covid vaccination continue effort prevent patient contract virus mitigate risk unsuccessful patient die  \n",
       "2  time vaccination outbreak resident already test positive covid nursing home patient resident week later patient test positive covid number chronic underlying health condition vaccine enough time prevent covid evidence vaccination cause patient death simply time save life  \n",
       "3                                                                      prior administration covid vaccine nursing home outbreak covid patient vaccinate week later test positive covid underlie thyroid diabetes disease die result covid underlie health condition result vaccine  \n",
       "5                                                                                                                                                                                                   resident find unresponsive without pulse respiration cpr perform expire rescue  "
      ]
     },
     "execution_count": 15,
     "metadata": {},
     "output_type": "execute_result"
    }
   ],
   "source": [
    "df_train['clean_text'] = df_train['SYMPTOM_TEXT'].apply(lambda x: finalpreprocess(x))\n",
    "#df_train=df_train.drop(columns=['word_count','char_count','unique_word_count'])\n",
    "df_train.head()"
   ]
  },
  {
   "cell_type": "code",
   "execution_count": 16,
   "metadata": {},
   "outputs": [],
   "source": [
    "# create Word2vec model\n",
    "#  here words_f should be a list containing words from each document. say 1st row of the list is words from the 1st document/sentence\n",
    "#  length of words_f is number of documents/sentences in your dataset\n",
    "df_train['clean_text_tok']=[nltk.word_tokenize(i) for i in df_train['clean_text']] #convert preprocessed sentence to tokenized sentence\n",
    "model = Word2Vec(df_train['clean_text_tok'],min_count=1)  #min_count=1 means word should be present at least across all documents,\n",
    "#if min_count=2 means if the word is present less than 2 times across all the documents then we shouldn't consider it\n",
    "\n",
    "w2v = dict(zip(model.wv.index_to_key, model.wv.vectors))  #combination of word and its vector\n",
    "#w2v = dict(zip(model.wv.index_to_key, model.wv.syn0))  #combination of word and its vector\n",
    "#w2v = dict(zip(model.wv.index2word, model.wv.syn0))  #combination of word and its vector\n",
    "\n",
    "#for converting sentence to vectors/numbers from word vectors result by Word2Vec\n",
    "class MeanEmbeddingVectorizer(object):\n",
    "    def __init__(self, word2vec):\n",
    "        self.word2vec = word2vec\n",
    "        # if a text is empty we should return a vector of zeros\n",
    "        # with the same dimensionality as all the other vectors\n",
    "        self.dim = len(next(iter(word2vec.values())))\n",
    "\n",
    "    def fit(self, X, y):\n",
    "        return self\n",
    "\n",
    "    def transform(self, X):\n",
    "        return np.array([\n",
    "            np.mean([self.word2vec[w] for w in words if w in self.word2vec]\n",
    "                    or [np.zeros(self.dim)], axis=0)\n",
    "            for words in X\n",
    "        ])"
   ]
  },
  {
   "cell_type": "code",
   "execution_count": 17,
   "metadata": {},
   "outputs": [],
   "source": [
    "#SPLITTING THE TRAINING DATASET INTO TRAINING AND VALIDATION\n",
    " \n",
    "# Input: \"reviewText\", \"rating\" and \"time\"\n",
    "# Target: \"log_votes\"\n",
    "X_train, X_val, y_train, y_val = train_test_split(df_train[\"clean_text\"],\n",
    "                                                  df_train[\"SYMPTOM_TEXT_TARGET\"],\n",
    "                                                  test_size=0.2,\n",
    "                                                  shuffle=True)\n",
    "X_train_tok= [nltk.word_tokenize(i) for i in X_train]  #for word2vec\n",
    "X_val_tok= [nltk.word_tokenize(i) for i in X_val]      #for word2vec\n",
    "\n",
    "#TF-IDF\n",
    "# Convert x_train to vector since model can only run on numbers and not words- Fit and transform\n",
    "tfidf_vectorizer = TfidfVectorizer(use_idf=True)\n",
    "X_train_vectors_tfidf = tfidf_vectorizer.fit_transform(X_train) #tfidf runs on non-tokenized sentences unlike word2vec\n",
    "# Only transform x_test (not fit and transform)\n",
    "X_val_vectors_tfidf = tfidf_vectorizer.transform(X_val) #Don't fit() your TfidfVectorizer to your test data: it will \n",
    "#change the word-indexes & weights to match test data. Rather, fit on the training data, then use the same train-data-\n",
    "#fit model on the test data, to reflect the fact you're analyzing the test data only based on what was learned without \n",
    "#it, and the have compatible\n",
    "\n",
    "\n",
    "#Word2vec\n",
    "# Fit and transform\n",
    "modelw = MeanEmbeddingVectorizer(w2v)\n",
    "X_train_vectors_w2v = modelw.transform(X_train_tok)\n",
    "X_val_vectors_w2v = modelw.transform(X_val_tok)"
   ]
  },
  {
   "cell_type": "markdown",
   "metadata": {},
   "source": [
    "The precision is the ratio tp / (tp + fp) where tp is the number of true positives and fp the number of false positives. The precision is intuitively the ability of the classifier not to label as positive a sample that is negative.\n",
    "\n",
    "The recall is the ratio tp / (tp + fn) where tp is the number of true positives and fn the number of false negatives. The recall is intuitively the ability of the classifier to find all the positive samples.\n",
    "\n",
    "The F-beta score can be interpreted as a weighted harmonic mean of the precision and recall, where an F-beta score reaches its best value at 1 and worst score at 0.The F-beta score weights recall more than precision by a factor of beta. beta == 1.0 means recall and precision are equally important.\n",
    "\n",
    "The support is the number of occurrences of each class in y_true.\n",
    "\n",
    "If pos_label is None and in binary classification, this function returns the average precision, recall and F-measure if average is one of 'micro', 'macro', 'weighted' or 'samples'.\n",
    "\n",
    "Read more in the [User Guide](https://scikit-learn.org/stable/modules/model_evaluation.html#precision-recall-f-measure-metrics)."
   ]
  },
  {
   "cell_type": "code",
   "execution_count": 18,
   "metadata": {
    "scrolled": true
   },
   "outputs": [],
   "source": [
    "\n",
    "# def logistic_regression_tfidf(df_train, df_test, ID, TEXT, TARGET, perc_cutoff = 80):\n",
    "#     if perc_cutoff > 1: perc_cutoff = perc_cutoff/100\n",
    "#     df_train = df_train.loc[df_train[TARGET].notnull(), [ID, TEXT, TARGET ]]\n",
    "#     df_train['word_count'] = df_train[TEXT].apply(lambda x: len(str(x).split()))\n",
    "#     #print(df_train[df_train[TARGET]==1]['word_count'].mean()) #Positive match\n",
    "#     #print(df_train[df_train[TARGET]==0]['word_count'].mean()) #Not positive match \n",
    "#     df_train['clean_text'] = df_train[TEXT].apply(lambda x: finalpreprocess(x))\n",
    "#     # create Word2vec model\n",
    "#     #  here words_f should be a list containing words from each document. say 1st row of the list is words from the 1st document/sentence\n",
    "#     #  length of words_f is number of documents/sentences in your dataset\n",
    "#     df_train['clean_text_tok']=[nltk.word_tokenize(i) for i in df_train['clean_text']] #convert preprocessed sentence to tokenized sentence\n",
    "#     model = Word2Vec(df_train['clean_text_tok'],min_count=1)  #min_count=1 means word should be present at least across all documents,\n",
    "#     #if min_count=2 means if the word is present less than 2 times across all the documents then we shouldn't consider it\n",
    "#     w2v = dict(zip(model.wv.index_to_key, model.wv.vectors))  #combination of word and its vector\n",
    "#     #w2v = dict(zip(model.wv.index_to_key, model.wv.syn0))  #combination of word and its vector\n",
    "#     #w2v = dict(zip(model.wv.index2word, model.wv.syn0))  #combination of word and its vector\n",
    "\n",
    "#     ######################################################################\n",
    "    \n",
    "#     #FITTING THE CLASSIFICATION MODEL using Logistic Regression(tf-idf)\n",
    "#     lr_tfidf=LogisticRegression(solver = 'liblinear', C=10, penalty = 'l2')\n",
    "#     lr_tfidf.fit(X_train_vectors_tfidf, y_train)  #model\n",
    "\n",
    "#     #Predict y value for test dataset\n",
    "#     y_predict = lr_tfidf.predict(X_val_vectors_tfidf)\n",
    "#     y_prob = lr_tfidf.predict_proba(X_val_vectors_tfidf)[:,1]\n",
    "\n",
    "\n",
    "#     print(classification_report(y_val,y_predict))\n",
    "#     print('Confusion Matrix:',confusion_matrix(y_val, y_predict))\n",
    "\n",
    "#     fpr, tpr, thresholds = roc_curve(y_val, y_prob)\n",
    "#     roc_auc = auc(fpr, tpr)\n",
    "#     print('AUC:', roc_auc)\n",
    "\n",
    "#     df_test['clean_text'] = df_test['SYMPTOM_TEXT'].apply(lambda x: finalpreprocess(x)) #preprocess the data\n",
    "#     X_test=df_test['clean_text'] \n",
    "#     X_vector=tfidf_vectorizer.transform(X_test) #converting X_test to vector\n",
    "#     y_predict = lr_tfidf.predict(X_vector)      #use the trained model on X_vector\n",
    "#     y_prob = lr_tfidf.predict_proba(X_vector)[:,1]\n",
    "#     df_test['predict_prob']= y_prob\n",
    "#     df_test['target']= y_predict\n",
    "#     # display(df_test[['VAERS_ID','SYMPTOM_TEXT','predict_prob','target']].head())\n",
    "#     # #final=df_test[['id','target']].reset_index(drop=True)\n",
    "#     # #final.to_csv('submission.csv')\n",
    "#     df_results = df_test[(\n",
    "#                             (df_test[\"target\"] == 1) & \n",
    "#                             (df_test[\"predict_prob\"] >= perc_cutoff)\n",
    "#     )]\n",
    "#     print(\"{}/{}\".format(df_results.shape[0], df_test.shape[0]))\n",
    "#     display(df_had_covid_test)\n",
    "\n",
    "# df_train = vd.loc[vd['SYMPTOM_TEXT_TARGET'].notnull(), ['VAERS_ID','SYMPTOM_TEXT', 'SYMPTOM_TEXT_TARGET' ]]\n",
    "# logistic_regression_tfidf(df_train, vd, 'VAERS_ID', 'SYMPTOM_TEXT', 'SYMPTOM_TEXT_TARGET')\n"
   ]
  },
  {
   "cell_type": "code",
   "execution_count": 19,
   "metadata": {},
   "outputs": [
    {
     "name": "stdout",
     "output_type": "stream",
     "text": [
      "              precision    recall  f1-score   support\n",
      "\n",
      "         0.0       0.96      0.85      0.90        27\n",
      "         1.0       0.76      0.93      0.84        14\n",
      "\n",
      "    accuracy                           0.88        41\n",
      "   macro avg       0.86      0.89      0.87        41\n",
      "weighted avg       0.89      0.88      0.88        41\n",
      "\n",
      "Confusion Matrix: [[23  4]\n",
      " [ 1 13]]\n",
      "AUC: 0.9682539682539684\n"
     ]
    }
   ],
   "source": [
    "#FITTING THE CLASSIFICATION MODEL using Logistic Regression(tf-idf)\n",
    "lr_tfidf=LogisticRegression(solver = 'liblinear', C=10, penalty = 'l2')\n",
    "lr_tfidf.fit(X_train_vectors_tfidf, y_train)  #model\n",
    "\n",
    "#Predict y value for test dataset\n",
    "y_predict = lr_tfidf.predict(X_val_vectors_tfidf)\n",
    "y_prob = lr_tfidf.predict_proba(X_val_vectors_tfidf)[:,1]\n",
    "\n",
    "\n",
    "print(classification_report(y_val,y_predict))\n",
    "print('Confusion Matrix:',confusion_matrix(y_val, y_predict))\n",
    "\n",
    "fpr, tpr, thresholds = roc_curve(y_val, y_prob)\n",
    "roc_auc = auc(fpr, tpr)\n",
    "print('AUC:', roc_auc)"
   ]
  },
  {
   "cell_type": "code",
   "execution_count": 20,
   "metadata": {},
   "outputs": [
    {
     "name": "stdout",
     "output_type": "stream",
     "text": [
      "              precision    recall  f1-score   support\n",
      "\n",
      "         0.0       1.00      0.33      0.50        27\n",
      "         1.0       0.44      1.00      0.61        14\n",
      "\n",
      "    accuracy                           0.56        41\n",
      "   macro avg       0.72      0.67      0.55        41\n",
      "weighted avg       0.81      0.56      0.54        41\n",
      "\n",
      "Confusion Matrix: [[ 9 18]\n",
      " [ 0 14]]\n",
      "AUC: 0.9497354497354497\n"
     ]
    }
   ],
   "source": [
    "#FITTING THE CLASSIFICATION MODEL using Naive Bayes(tf-idf)\n",
    "#It's a probabilistic classifier that makes use of Bayes' Theorem, a rule that uses probability to make predictions based on prior knowledge of conditions that might be related. This algorithm is the most suitable for such large dataset as it considers each feature independently, calculates the probability of each category, and then predicts the category with the highest probability.\n",
    "\n",
    "nb_tfidf = MultinomialNB()\n",
    "nb_tfidf.fit(X_train_vectors_tfidf, y_train)  #model\n",
    "\n",
    "#Predict y value for test dataset\n",
    "y_predict = nb_tfidf.predict(X_val_vectors_tfidf)\n",
    "y_prob = nb_tfidf.predict_proba(X_val_vectors_tfidf)[:,1]\n",
    " \n",
    "\n",
    "print(classification_report(y_val,y_predict))\n",
    "print('Confusion Matrix:',confusion_matrix(y_val, y_predict))\n",
    " \n",
    "fpr, tpr, thresholds = roc_curve(y_val, y_prob)\n",
    "roc_auc = auc(fpr, tpr)\n",
    "print('AUC:', roc_auc)\n"
   ]
  },
  {
   "cell_type": "code",
   "execution_count": 21,
   "metadata": {},
   "outputs": [
    {
     "name": "stdout",
     "output_type": "stream",
     "text": [
      "              precision    recall  f1-score   support\n",
      "\n",
      "         0.0       0.90      0.67      0.77        27\n",
      "         1.0       0.57      0.86      0.69        14\n",
      "\n",
      "    accuracy                           0.73        41\n",
      "   macro avg       0.74      0.76      0.73        41\n",
      "weighted avg       0.79      0.73      0.74        41\n",
      "\n",
      "Confusion Matrix: [[18  9]\n",
      " [ 2 12]]\n",
      "AUC: 0.8148148148148149\n"
     ]
    }
   ],
   "source": [
    "#FITTING THE CLASSIFICATION MODEL using Logistic Regression (W2v)\n",
    "lr_w2v=LogisticRegression(solver = 'liblinear', C=10, penalty = 'l2')\n",
    "lr_w2v.fit(X_train_vectors_w2v, y_train)  #model\n",
    "\n",
    "#Predict y value for test dataset\n",
    "y_predict = lr_w2v.predict(X_val_vectors_w2v)\n",
    "y_prob = lr_w2v.predict_proba(X_val_vectors_w2v)[:,1]\n",
    " \n",
    "\n",
    "print(classification_report(y_val,y_predict))\n",
    "print('Confusion Matrix:',confusion_matrix(y_val, y_predict))\n",
    " \n",
    "fpr, tpr, thresholds = roc_curve(y_val, y_prob)\n",
    "roc_auc = auc(fpr, tpr)\n",
    "print('AUC:', roc_auc)"
   ]
  },
  {
   "cell_type": "code",
   "execution_count": 22,
   "metadata": {},
   "outputs": [
    {
     "data": {
      "text/html": [
       "<div>\n",
       "<style scoped>\n",
       "    .dataframe tbody tr th:only-of-type {\n",
       "        vertical-align: middle;\n",
       "    }\n",
       "\n",
       "    .dataframe tbody tr th {\n",
       "        vertical-align: top;\n",
       "    }\n",
       "\n",
       "    .dataframe thead th {\n",
       "        text-align: right;\n",
       "    }\n",
       "</style>\n",
       "<table border=\"1\" class=\"dataframe\">\n",
       "  <thead>\n",
       "    <tr style=\"text-align: right;\">\n",
       "      <th></th>\n",
       "      <th>VAERS_ID</th>\n",
       "      <th>SYMPTOM_TEXT</th>\n",
       "      <th>SYMPTOM_TEXT_TARGET</th>\n",
       "      <th>clean_text</th>\n",
       "      <th>predict_prob</th>\n",
       "      <th>target</th>\n",
       "    </tr>\n",
       "  </thead>\n",
       "  <tbody>\n",
       "    <tr>\n",
       "      <th>4</th>\n",
       "      <td>918065</td>\n",
       "      <td>1/1/2020: Residents was found unresponsive. Pronounced deceased at 6:02pm</td>\n",
       "      <td>NaN</td>\n",
       "      <td>resident find unresponsive pronounced decease pm</td>\n",
       "      <td>0.022736</td>\n",
       "      <td>0.0</td>\n",
       "    </tr>\n",
       "    <tr>\n",
       "      <th>10</th>\n",
       "      <td>919537</td>\n",
       "      <td>Resident exhibited no adverse events during 30 minute monitoring following vaccine administration. Resident found without pulse at 1900.</td>\n",
       "      <td>NaN</td>\n",
       "      <td>resident exhibit adverse event minute monitoring follow vaccine administration resident find without pulse</td>\n",
       "      <td>0.070013</td>\n",
       "      <td>0.0</td>\n",
       "    </tr>\n",
       "    <tr>\n",
       "      <th>19</th>\n",
       "      <td>921547</td>\n",
       "      <td>DEATH ON 1/4/2021, RESIDENT RECIEVED VACCINE ON 1/2/20</td>\n",
       "      <td>NaN</td>\n",
       "      <td>death resident recieved vaccine</td>\n",
       "      <td>0.084419</td>\n",
       "      <td>0.0</td>\n",
       "    </tr>\n",
       "    <tr>\n",
       "      <th>75</th>\n",
       "      <td>934507</td>\n",
       "      <td>Resident died suddenly and expectantly on 01/05/2021</td>\n",
       "      <td>NaN</td>\n",
       "      <td>resident die suddenly expectantly</td>\n",
       "      <td>0.129098</td>\n",
       "      <td>0.0</td>\n",
       "    </tr>\n",
       "    <tr>\n",
       "      <th>76</th>\n",
       "      <td>934539</td>\n",
       "      <td>Patient received COVID-19 (Moderna) vaccine from the Health Department on afternoon of January 8, 2021 and went to sleep approximately 2300 that night. Was found unresponsive in bed the following morning and pronounced dead at 1336 on January 9, 2021</td>\n",
       "      <td>NaN</td>\n",
       "      <td>patient receive covid moderna vaccine health department afternoon january go sleep approximately night find unresponsive bed follow morning pronounce dead january</td>\n",
       "      <td>0.391957</td>\n",
       "      <td>0.0</td>\n",
       "    </tr>\n",
       "  </tbody>\n",
       "</table>\n",
       "</div>"
      ],
      "text/plain": [
       "    VAERS_ID  \\\n",
       "4     918065   \n",
       "10    919537   \n",
       "19    921547   \n",
       "75    934507   \n",
       "76    934539   \n",
       "\n",
       "                                                                                                                                                                                                                                                  SYMPTOM_TEXT  \\\n",
       "4                                                                                                                                                                                    1/1/2020: Residents was found unresponsive. Pronounced deceased at 6:02pm   \n",
       "10                                                                                                                    Resident exhibited no adverse events during 30 minute monitoring following vaccine administration. Resident found without pulse at 1900.   \n",
       "19                                                                                                                                                                                                      DEATH ON 1/4/2021, RESIDENT RECIEVED VACCINE ON 1/2/20   \n",
       "75                                                                                                                                                                                                        Resident died suddenly and expectantly on 01/05/2021   \n",
       "76  Patient received COVID-19 (Moderna) vaccine from the Health Department on afternoon of January 8, 2021 and went to sleep approximately 2300 that night. Was found unresponsive in bed the following morning and pronounced dead at 1336 on January 9, 2021   \n",
       "\n",
       "    SYMPTOM_TEXT_TARGET  \\\n",
       "4                   NaN   \n",
       "10                  NaN   \n",
       "19                  NaN   \n",
       "75                  NaN   \n",
       "76                  NaN   \n",
       "\n",
       "                                                                                                                                                            clean_text  \\\n",
       "4                                                                                                                     resident find unresponsive pronounced decease pm   \n",
       "10                                                          resident exhibit adverse event minute monitoring follow vaccine administration resident find without pulse   \n",
       "19                                                                                                                                     death resident recieved vaccine   \n",
       "75                                                                                                                                   resident die suddenly expectantly   \n",
       "76  patient receive covid moderna vaccine health department afternoon january go sleep approximately night find unresponsive bed follow morning pronounce dead january   \n",
       "\n",
       "    predict_prob  target  \n",
       "4       0.022736     0.0  \n",
       "10      0.070013     0.0  \n",
       "19      0.084419     0.0  \n",
       "75      0.129098     0.0  \n",
       "76      0.391957     0.0  "
      ]
     },
     "metadata": {},
     "output_type": "display_data"
    }
   ],
   "source": [
    "\n",
    "#Testing it on test dataset with the best model (Logistic Regression(tf-idf))\n",
    "df_test['clean_text'] = df_test['SYMPTOM_TEXT'].apply(lambda x: finalpreprocess(x)) #preprocess the data\n",
    "X_test=df_test['clean_text'] \n",
    "X_vector=tfidf_vectorizer.transform(X_test) #converting X_test to vector\n",
    "y_predict = lr_tfidf.predict(X_vector)      #use the trained model on X_vector\n",
    "y_prob = lr_tfidf.predict_proba(X_vector)[:,1]\n",
    "df_test['predict_prob']= y_prob\n",
    "df_test['target']= y_predict\n",
    "display(df_test.head())\n",
    "#final=df_test[['id','target']].reset_index(drop=True)\n",
    "#final.to_csv('submission.csv')"
   ]
  },
  {
   "cell_type": "code",
   "execution_count": 23,
   "metadata": {
    "scrolled": true
   },
   "outputs": [
    {
     "data": {
      "text/html": [
       "<div>\n",
       "<style scoped>\n",
       "    .dataframe tbody tr th:only-of-type {\n",
       "        vertical-align: middle;\n",
       "    }\n",
       "\n",
       "    .dataframe tbody tr th {\n",
       "        vertical-align: top;\n",
       "    }\n",
       "\n",
       "    .dataframe thead th {\n",
       "        text-align: right;\n",
       "    }\n",
       "</style>\n",
       "<table border=\"1\" class=\"dataframe\">\n",
       "  <thead>\n",
       "    <tr style=\"text-align: right;\">\n",
       "      <th></th>\n",
       "      <th>VAERS_ID</th>\n",
       "      <th>SYMPTOM_TEXT</th>\n",
       "      <th>predict_prob</th>\n",
       "      <th>target</th>\n",
       "    </tr>\n",
       "  </thead>\n",
       "  <tbody>\n",
       "    <tr>\n",
       "      <th>0</th>\n",
       "      <td>916803</td>\n",
       "      <td>respitory colase</td>\n",
       "      <td>0.111046</td>\n",
       "      <td>0.0</td>\n",
       "    </tr>\n",
       "    <tr>\n",
       "      <th>1</th>\n",
       "      <td>917117</td>\n",
       "      <td>After vaccination, patient tested positive for COVID-19.  Patient was very ill and had numerous chronic health issues prior to vaccination.  Facility had a number of patients who had already tested positive for COVID-19.  Vaccination continued in an effort to prevent this patient from contracting the virus or to mitigate his risk.  This was unsuccessful and patient died.</td>\n",
       "      <td>0.919743</td>\n",
       "      <td>1.0</td>\n",
       "    </tr>\n",
       "    <tr>\n",
       "      <th>2</th>\n",
       "      <td>917790</td>\n",
       "      <td>At the time of vaccination, there was an outbreak of residents who had already tested positive for COVID 19 at the nursing home where patient was a resident.  About a week later, patient tested positive for COVID 19.  She had a number of chronic, underlying health conditions.  The vaccine did not have enough time to prevent COVID 19.  There is no evidence that the vaccination caused patient's death.  It simply didn't have time to save her life.</td>\n",
       "      <td>0.906094</td>\n",
       "      <td>1.0</td>\n",
       "    </tr>\n",
       "    <tr>\n",
       "      <th>3</th>\n",
       "      <td>917793</td>\n",
       "      <td>Prior to the administration of the COVID 19 vaccine, the nursing home had an outbreak of COVID-19.  Patient was vaccinated and about a week later she tested positive for COVID-19.  She had underlying thyroid and diabetes disease.  She died as a result of COVID-19 and her underlying health conditions and not as a result of the vaccine.</td>\n",
       "      <td>0.958349</td>\n",
       "      <td>1.0</td>\n",
       "    </tr>\n",
       "    <tr>\n",
       "      <th>4</th>\n",
       "      <td>918065</td>\n",
       "      <td>1/1/2020: Residents was found unresponsive. Pronounced deceased at 6:02pm</td>\n",
       "      <td>0.022736</td>\n",
       "      <td>0.0</td>\n",
       "    </tr>\n",
       "  </tbody>\n",
       "</table>\n",
       "</div>"
      ],
      "text/plain": [
       "   VAERS_ID  \\\n",
       "0    916803   \n",
       "1    917117   \n",
       "2    917790   \n",
       "3    917793   \n",
       "4    918065   \n",
       "\n",
       "                                                                                                                                                                                                                                                                                                                                                                                                                                                       SYMPTOM_TEXT  \\\n",
       "0                                                                                                                                                                                                                                                                                                                                                                                                                                                  respitory colase   \n",
       "1                                                                             After vaccination, patient tested positive for COVID-19.  Patient was very ill and had numerous chronic health issues prior to vaccination.  Facility had a number of patients who had already tested positive for COVID-19.  Vaccination continued in an effort to prevent this patient from contracting the virus or to mitigate his risk.  This was unsuccessful and patient died.   \n",
       "2  At the time of vaccination, there was an outbreak of residents who had already tested positive for COVID 19 at the nursing home where patient was a resident.  About a week later, patient tested positive for COVID 19.  She had a number of chronic, underlying health conditions.  The vaccine did not have enough time to prevent COVID 19.  There is no evidence that the vaccination caused patient's death.  It simply didn't have time to save her life.   \n",
       "3                                                                                                                  Prior to the administration of the COVID 19 vaccine, the nursing home had an outbreak of COVID-19.  Patient was vaccinated and about a week later she tested positive for COVID-19.  She had underlying thyroid and diabetes disease.  She died as a result of COVID-19 and her underlying health conditions and not as a result of the vaccine.   \n",
       "4                                                                                                                                                                                                                                                                                                                                                                                         1/1/2020: Residents was found unresponsive. Pronounced deceased at 6:02pm   \n",
       "\n",
       "   predict_prob  target  \n",
       "0      0.111046     0.0  \n",
       "1      0.919743     1.0  \n",
       "2      0.906094     1.0  \n",
       "3      0.958349     1.0  \n",
       "4      0.022736     0.0  "
      ]
     },
     "metadata": {},
     "output_type": "display_data"
    }
   ],
   "source": [
    "#Testing it on complete dataset with the best model (Logistic Regression(tf-idf)) to gather actual number \n",
    "# of patients who died after positive covid diagnosis\n",
    "vd['clean_text'] = vd['SYMPTOM_TEXT'].apply(lambda x: finalpreprocess(x)) #preprocess the data\n",
    "X_test=vd['clean_text'] \n",
    "X_vector=tfidf_vectorizer.transform(X_test) #converting X_test to vector\n",
    "y_predict = lr_tfidf.predict(X_vector)      #use the trained model on X_vector\n",
    "y_prob = lr_tfidf.predict_proba(X_vector)[:,1]\n",
    "vd['predict_prob']= y_prob\n",
    "vd['target']= y_predict\n",
    "display(vd[['VAERS_ID','SYMPTOM_TEXT','predict_prob','target']].head())\n",
    "#final=df_test[['id','target']].reset_index(drop=True)\n",
    "#final.to_csv('submission.csv')"
   ]
  },
  {
   "cell_type": "markdown",
   "metadata": {},
   "source": [
    "# Conclusions\n",
    "The best predictive results were from **Logistic Regression(tf-idf)**. Will be using this for the rest of the text analyses."
   ]
  }
 ],
 "metadata": {
  "kernelspec": {
   "display_name": "Python 3",
   "language": "python",
   "name": "python3"
  },
  "language_info": {
   "codemirror_mode": {
    "name": "ipython",
    "version": 3
   },
   "file_extension": ".py",
   "mimetype": "text/x-python",
   "name": "python",
   "nbconvert_exporter": "python",
   "pygments_lexer": "ipython3",
   "version": "3.6.9"
  }
 },
 "nbformat": 4,
 "nbformat_minor": 4
}
